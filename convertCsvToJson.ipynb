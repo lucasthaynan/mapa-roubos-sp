{
 "cells": [
  {
   "cell_type": "code",
   "execution_count": 16,
   "metadata": {},
   "outputs": [],
   "source": [
    "import pandas as pd\n",
    "import json\n",
    "import random\n"
   ]
  },
  {
   "cell_type": "code",
   "execution_count": 17,
   "metadata": {},
   "outputs": [],
   "source": [
    "df = pd.read_csv('veiculos_2022.csv')\n",
    "\n",
    "features = []\n",
    "\n",
    "for index, row in df.iterrows():\n",
    "\n",
    "    if row['LATITUDE'] < 0:\n",
    "        \n",
    "        feature = {\n",
    "            'type': 'Feature',\n",
    "            'geometry': {\n",
    "                'type': 'Point',\n",
    "                'coordinates': [row['LONGITUDE'], row['LATITUDE']]\n",
    "            },\n",
    "            'properties': {\n",
    "                'clearance': index\n",
    "            }, \n",
    "            \"assaltos\": random.randint(1,10)\n",
    "        }\n",
    "        features.append(feature)\n",
    "\n",
    "    else:\n",
    "        continue\n",
    "        \n",
    "\n",
    "\n",
    "geojson = {\n",
    "    'type': 'FeatureCollection',\n",
    "    'features': features\n",
    "}\n",
    "\n"
   ]
  },
  {
   "cell_type": "code",
   "execution_count": null,
   "metadata": {},
   "outputs": [],
   "source": [
    "geojson"
   ]
  },
  {
   "cell_type": "code",
   "execution_count": 19,
   "metadata": {},
   "outputs": [],
   "source": [
    "with open('clearance_map.json', 'w') as f:\n",
    "    json.dump(geojson, f)"
   ]
  },
  {
   "attachments": {},
   "cell_type": "markdown",
   "metadata": {},
   "source": [
    "### criar um leve deslocamento nas coordenadas iguais para evitar sobreposição\n",
    "Isso corrige um bug da biblioteca turf.js e mapbox de não contar os obstaculos sobrepostos"
   ]
  },
  {
   "cell_type": "code",
   "execution_count": 21,
   "metadata": {},
   "outputs": [],
   "source": [
    "from geopy.distance import geodesic\n",
    "import json"
   ]
  },
  {
   "cell_type": "code",
   "execution_count": 29,
   "metadata": {},
   "outputs": [],
   "source": [
    "# Abrir o arquivo JSON\n",
    "with open('clearance_map.json') as f:\n",
    "    data = json.load(f)\n",
    "\n",
    "# Criar um dicionário para armazenar as coordenadas que já foram deslocadas\n",
    "deslocadas = {}\n",
    "# Criar um conjunto para armazenar todas as coordenadas (antes e depois do deslocamento)\n",
    "todas_coords = set()\n",
    "\n",
    "# Iterar sobre os recursos no arquivo JSON\n",
    "for feature in data['features']:\n",
    "    # Obter as coordenadas do recurso\n",
    "    coords = feature['geometry']['coordinates']\n",
    "    # Tentar deslocar as coordenadas\n",
    "    while tuple(coords) in todas_coords:\n",
    "        # Se as coordenadas já foram usadas, calcular um novo deslocamento\n",
    "        # Se as coordenadas já foram usadas, calcular um novo deslocamento\n",
    "        desloc = geodesic(meters=1).destination(coords, 45).longitude - coords[0], geodesic(meters=1).destination(coords, 45).latitude - coords[1]\n",
    "        coords = (coords[0] + desloc[0], coords[1] + desloc[1])\n",
    "    # Registrar as coordenadas originais no conjunto de todas as coordenadas\n",
    "    todas_coords.add(tuple(feature['geometry']['coordinates']))\n",
    "    # Registrar as novas coordenadas no conjunto de todas as coordenadas\n",
    "    todas_coords.add(tuple(coords))\n",
    "    # Registrar as novas coordenadas no dicionário de coordenadas deslocadas\n",
    "    deslocadas[tuple(feature['geometry']['coordinates'])] = coords\n",
    "    # Atualizar as coordenadas no recurso\n",
    "    feature['geometry']['coordinates'] = list(coords)\n",
    "\n",
    "# Salvar as alterações no arquivo JSON\n",
    "with open('seu_arquivo_modificado.json', 'w') as f:\n",
    "    json.dump(data, f)"
   ]
  }
 ],
 "metadata": {
  "kernelspec": {
   "display_name": "base",
   "language": "python",
   "name": "python3"
  },
  "language_info": {
   "codemirror_mode": {
    "name": "ipython",
    "version": 3
   },
   "file_extension": ".py",
   "mimetype": "text/x-python",
   "name": "python",
   "nbconvert_exporter": "python",
   "pygments_lexer": "ipython3",
   "version": "3.9.13 (main, Aug 25 2022, 18:29:29) \n[Clang 12.0.0 ]"
  },
  "orig_nbformat": 4,
  "vscode": {
   "interpreter": {
    "hash": "7f053cac19d58cad32fae966e0d66a9b484695a527e688d5edbec5272e8d2164"
   }
  }
 },
 "nbformat": 4,
 "nbformat_minor": 2
}
